{
 "cells": [
  {
   "cell_type": "markdown",
   "id": "84e0182a-cc15-4483-bfd4-331b2971f554",
   "metadata": {},
   "source": [
    "This is my first python program"
   ]
  },
  {
   "cell_type": "markdown",
   "id": "265d14ef-5b58-463b-bd47-6478516b9f9f",
   "metadata": {},
   "source": [
    "# Data Analytics with Python"
   ]
  },
  {
   "cell_type": "markdown",
   "id": "9c000e98-1174-4516-9755-77425e741c5f",
   "metadata": {},
   "source": [
    "# Hello Python"
   ]
  },
  {
   "cell_type": "markdown",
   "id": "6a7f4122-8b31-4a33-b921-64c02c1fb7c0",
   "metadata": {
    "jp-MarkdownHeadingCollapsed": true
   },
   "source": [
    "# Day 2"
   ]
  },
  {
   "cell_type": "code",
   "execution_count": 1,
   "id": "ec1dde7a-bd4c-47a0-8890-32b96cbede6b",
   "metadata": {},
   "outputs": [],
   "source": [
    "a = 1"
   ]
  },
  {
   "cell_type": "code",
   "execution_count": 2,
   "id": "3da26854-96d4-4d5c-b30e-61bbc79cf2d1",
   "metadata": {},
   "outputs": [
    {
     "name": "stdout",
     "output_type": "stream",
     "text": [
      "1\n"
     ]
    }
   ],
   "source": [
    "print(a)"
   ]
  },
  {
   "cell_type": "code",
   "execution_count": 3,
   "id": "b07eb337-8aaa-4b34-a7a6-12f4a835fc30",
   "metadata": {},
   "outputs": [
    {
     "name": "stdout",
     "output_type": "stream",
     "text": [
      " apple\n"
     ]
    }
   ],
   "source": [
    "x = \" apple\"\n",
    "print(x)"
   ]
  },
  {
   "cell_type": "code",
   "execution_count": 4,
   "id": "02c3c45b-7b98-44bd-b508-c7f43acdb075",
   "metadata": {},
   "outputs": [],
   "source": [
    "myAge = 30"
   ]
  },
  {
   "cell_type": "code",
   "execution_count": 5,
   "id": "00e7f6f9-c9f6-465f-8db7-a6e54cd444fd",
   "metadata": {},
   "outputs": [
    {
     "name": "stdout",
     "output_type": "stream",
     "text": [
      "30\n"
     ]
    }
   ],
   "source": [
    "print(myAge)"
   ]
  },
  {
   "cell_type": "code",
   "execution_count": 7,
   "id": "dfc93d81-e47c-4456-afd0-11c5bd55c78e",
   "metadata": {},
   "outputs": [
    {
     "ename": "SyntaxError",
     "evalue": "cannot assign to expression here. Maybe you meant '==' instead of '='? (30454199.py, line 1)",
     "output_type": "error",
     "traceback": [
      "  \u001b[36mCell\u001b[39m\u001b[36m \u001b[39m\u001b[32mIn[7]\u001b[39m\u001b[32m, line 1\u001b[39m\n\u001b[31m    \u001b[39m\u001b[31m1@a = \"raka\"\u001b[39m\n    ^\n\u001b[31mSyntaxError\u001b[39m\u001b[31m:\u001b[39m cannot assign to expression here. Maybe you meant '==' instead of '='?\n"
     ]
    }
   ],
   "source": [
    "1@a = \"raka\"\n",
    "print(1@a)"
   ]
  },
  {
   "cell_type": "code",
   "execution_count": 11,
   "id": "6415f2ac-e86e-4035-8865-cbdfbdc6d9c1",
   "metadata": {},
   "outputs": [
    {
     "name": "stdout",
     "output_type": "stream",
     "text": [
      "Sam\n",
      "Ram\n"
     ]
    }
   ],
   "source": [
    "_Name = \"Ram\"\n",
    "_name = \"Sam\"\n",
    "print(_name)\n",
    "print(_Name)"
   ]
  },
  {
   "cell_type": "code",
   "execution_count": 12,
   "id": "093bf582-371d-46ff-b951-9186f9775bd0",
   "metadata": {},
   "outputs": [
    {
     "ename": "TypeError",
     "evalue": "cannot unpack non-iterable int object",
     "output_type": "error",
     "traceback": [
      "\u001b[31m---------------------------------------------------------------------------\u001b[39m",
      "\u001b[31mTypeError\u001b[39m                                 Traceback (most recent call last)",
      "\u001b[36mCell\u001b[39m\u001b[36m \u001b[39m\u001b[32mIn[12]\u001b[39m\u001b[32m, line 1\u001b[39m\n\u001b[32m----> \u001b[39m\u001b[32m1\u001b[39m x,y,z = \u001b[32m13\u001b[39m\n",
      "\u001b[31mTypeError\u001b[39m: cannot unpack non-iterable int object"
     ]
    }
   ],
   "source": [
    "x,y,z = 13"
   ]
  },
  {
   "cell_type": "code",
   "execution_count": 13,
   "id": "2495108c-e222-4cb7-9297-de9c5a40e697",
   "metadata": {},
   "outputs": [
    {
     "name": "stdout",
     "output_type": "stream",
     "text": [
      "11 12 13\n"
     ]
    }
   ],
   "source": [
    "x,y,z = 11,12,13\n",
    "print(x,y,z)"
   ]
  },
  {
   "cell_type": "code",
   "execution_count": 14,
   "id": "d3d32332-0381-42e9-90a7-595ea0e6b8b6",
   "metadata": {},
   "outputs": [
    {
     "name": "stdout",
     "output_type": "stream",
     "text": [
      "12 12 12\n"
     ]
    }
   ],
   "source": [
    "x,y,z  = 12,12,12\n",
    "print(x,y,z)"
   ]
  },
  {
   "cell_type": "markdown",
   "id": "a96ae8df-612b-46ea-903a-9cf69f7e8ea3",
   "metadata": {
    "jp-MarkdownHeadingCollapsed": true
   },
   "source": [
    "# python output variables"
   ]
  },
  {
   "cell_type": "code",
   "execution_count": 17,
   "id": "325b4a65-a5d6-45b0-acec-204cba28ef3a",
   "metadata": {},
   "outputs": [
    {
     "name": "stdout",
     "output_type": "stream",
     "text": [
      "python is awesome\n",
      "is awesome python\n"
     ]
    }
   ],
   "source": [
    "x = \"python\"\n",
    "y = \"is\"\n",
    "z = \"awesome\"\n",
    "print(x,y,z)\n",
    "print(y,z,x)"
   ]
  },
  {
   "cell_type": "markdown",
   "id": "c2bd4524-e594-4ce7-80e3-20b6f04c3cd1",
   "metadata": {
    "jp-MarkdownHeadingCollapsed": true
   },
   "source": [
    "# python data types"
   ]
  },
  {
   "cell_type": "code",
   "execution_count": 18,
   "id": "3e10f95f-961f-4eb9-836f-09afa3a7eca4",
   "metadata": {},
   "outputs": [
    {
     "name": "stdout",
     "output_type": "stream",
     "text": [
      "12\n",
      "<class 'int'>\n"
     ]
    }
   ],
   "source": [
    "x = 12\n",
    "print(x)\n",
    "print(type(x))"
   ]
  },
  {
   "cell_type": "code",
   "execution_count": 20,
   "id": "b832dff2-64de-4bd1-beee-cbbdc0c41b95",
   "metadata": {},
   "outputs": [
    {
     "name": "stdout",
     "output_type": "stream",
     "text": [
      "Ram\n",
      "<class 'str'>\n",
      "<class 'str'>\n"
     ]
    }
   ],
   "source": [
    "a = \"Ram\"\n",
    "b = 'Sam'\n",
    "print(a)\n",
    "print(type(a))\n",
    "print(type(b))"
   ]
  },
  {
   "cell_type": "code",
   "execution_count": 23,
   "id": "be78e1af-5ab9-4df5-919a-b328686f3591",
   "metadata": {},
   "outputs": [
    {
     "name": "stdout",
     "output_type": "stream",
     "text": [
      "<class 'float'>\n"
     ]
    }
   ],
   "source": [
    "m = 46271457125418.24511412658\n",
    "print(type(m))"
   ]
  },
  {
   "cell_type": "code",
   "execution_count": 25,
   "id": "88c2372e-adcb-4e39-b890-4714aae1d4cd",
   "metadata": {},
   "outputs": [
    {
     "name": "stdout",
     "output_type": "stream",
     "text": [
      "<class 'complex'>\n"
     ]
    }
   ],
   "source": [
    "n = 2+5j\n",
    "print(type(n))"
   ]
  },
  {
   "cell_type": "code",
   "execution_count": 35,
   "id": "43ea77dc-fb73-4361-980f-3b2a9765c8bb",
   "metadata": {},
   "outputs": [
    {
     "name": "stdout",
     "output_type": "stream",
     "text": [
      "<class 'list'>\n",
      "<class 'list'>\n"
     ]
    }
   ],
   "source": [
    "p = [1,2,3,4]\n",
    "l = [1,2.5,3,'a',True,\"b\"]\n",
    "print(type(p))\n",
    "print(type(l))"
   ]
  },
  {
   "cell_type": "code",
   "execution_count": 36,
   "id": "cc2afd2a-1d86-4c11-a6dc-96a5eaa5d821",
   "metadata": {},
   "outputs": [
    {
     "name": "stdout",
     "output_type": "stream",
     "text": [
      "<class 'tuple'>\n"
     ]
    }
   ],
   "source": [
    "t = (1,2.5,3,'a',True,\"b\")\n",
    "print(type(t))"
   ]
  },
  {
   "cell_type": "code",
   "execution_count": 37,
   "id": "21308111-a31b-44b1-862e-8490236285d3",
   "metadata": {},
   "outputs": [
    {
     "name": "stdout",
     "output_type": "stream",
     "text": [
      "<class 'set'>\n"
     ]
    }
   ],
   "source": [
    "s = {1,2.5,3,'a',True,\"b\"}\n",
    "print(type(s))"
   ]
  },
  {
   "cell_type": "code",
   "execution_count": 108,
   "id": "6d605a41-c631-4972-a9e5-77d45e59c201",
   "metadata": {},
   "outputs": [
    {
     "name": "stdout",
     "output_type": "stream",
     "text": [
      "<class 'bool'>\n"
     ]
    }
   ],
   "source": [
    "q = True\n",
    "print(type(q))"
   ]
  },
  {
   "cell_type": "code",
   "execution_count": 109,
   "id": "bf75663b-6972-4f5a-a6c0-1a89f4343826",
   "metadata": {},
   "outputs": [
    {
     "name": "stdout",
     "output_type": "stream",
     "text": [
      "<class 'NoneType'>\n"
     ]
    }
   ],
   "source": [
    "x = None\n",
    "print(type(x))"
   ]
  },
  {
   "cell_type": "code",
   "execution_count": 110,
   "id": "237a19f3-1e39-439f-a9eb-378cb497bce7",
   "metadata": {},
   "outputs": [
    {
     "name": "stdout",
     "output_type": "stream",
     "text": [
      "1 2\n"
     ]
    }
   ],
   "source": [
    "a,b,_ = 1,2,3\n",
    "print(a,b)"
   ]
  },
  {
   "cell_type": "code",
   "execution_count": 112,
   "id": "6bfb0b1d-7af8-40af-8e6f-7981927d2685",
   "metadata": {},
   "outputs": [
    {
     "name": "stdout",
     "output_type": "stream",
     "text": [
      "50 50 50\n"
     ]
    }
   ],
   "source": [
    "a = b = c = 50\n",
    "print(a,b,c)"
   ]
  },
  {
   "cell_type": "code",
   "execution_count": 38,
   "id": "42942088-5e87-4aab-b2c0-457cb381b81d",
   "metadata": {},
   "outputs": [
    {
     "name": "stdout",
     "output_type": "stream",
     "text": [
      "Variable               Type        Data/Info\n",
      "--------------------------------------------\n",
      "a                      str         Ram\n",
      "b                      str         Sam\n",
      "dataframe_columns      function    <function dataframe_columns at 0x132227ce0>\n",
      "dataframe_hash         function    <function dataframe_hash at 0x132224400>\n",
      "dtypes_str             function    <function dtypes_str at 0x132227240>\n",
      "get_dataframes         function    <function get_dataframes at 0x132227f60>\n",
      "getpass                module      <module 'getpass' from '/<...>b/python3.13/getpass.py'>\n",
      "hashlib                module      <module 'hashlib' from '/<...>b/python3.13/hashlib.py'>\n",
      "import_pandas_safely   function    <function import_pandas_safely at 0x132225bc0>\n",
      "is_data_frame          function    <function is_data_frame at 0x1322263e0>\n",
      "json                   module      <module 'json' from '/opt<...>on3.13/json/__init__.py'>\n",
      "l                      list        n=6\n",
      "m                      float       46271457125418.24\n",
      "myAge                  int         30\n",
      "n                      complex     (2+5j)\n",
      "p                      list        n=4\n",
      "q                      list        n=6\n",
      "r                      set         {1, 2.5, 3, 'b', 'a'}\n",
      "s                      set         {1, 2.5, 3, 'b', 'a'}\n",
      "t                      tuple       n=6\n",
      "x                      str         Ram\n",
      "y                      str         Sam\n",
      "z                      str         awesome\n"
     ]
    }
   ],
   "source": [
    "%whos"
   ]
  },
  {
   "cell_type": "markdown",
   "id": "86d0d651-6a38-4a23-b9c0-bcf45978b2ee",
   "metadata": {
    "jp-MarkdownHeadingCollapsed": true
   },
   "source": [
    "# Operators in python"
   ]
  },
  {
   "cell_type": "code",
   "execution_count": null,
   "id": "d5384498-e527-456f-b4b4-ec39cd7c8430",
   "metadata": {},
   "outputs": [],
   "source": [
    "# Use of Arithmatic Operator"
   ]
  },
  {
   "cell_type": "code",
   "execution_count": 52,
   "id": "a1313b7d-d622-48ca-91ed-52bd4d391519",
   "metadata": {},
   "outputs": [
    {
     "name": "stdout",
     "output_type": "stream",
     "text": [
      "Addition :  25\n",
      "Substraction :  15\n",
      "Multiplicaation :  100\n",
      "Division :  4.0\n"
     ]
    }
   ],
   "source": [
    "x,y = 20,5\n",
    "print(\"Addition : \" , (x+y))\n",
    "print(\"Substraction : \", x-y)\n",
    "print(\"Multiplicaation : \",x*y)\n",
    "print(\"Division : \",x/y)"
   ]
  },
  {
   "cell_type": "code",
   "execution_count": 55,
   "id": "b69bea72-9194-48e7-9410-7a6d8735e1a9",
   "metadata": {},
   "outputs": [
    {
     "name": "stdout",
     "output_type": "stream",
     "text": [
      "classical division :  3.75\n",
      "floor division :  3\n"
     ]
    }
   ],
   "source": [
    "x,y = 15,4\n",
    "print(\"classical division : \", x/y)\n",
    "print(\"floor division : \", x//y)"
   ]
  },
  {
   "cell_type": "code",
   "execution_count": 57,
   "id": "0fa73925-c014-4ecc-8531-bdafa14b5e64",
   "metadata": {},
   "outputs": [
    {
     "name": "stdout",
     "output_type": "stream",
     "text": [
      "use of modulus operation for remainder :  2\n"
     ]
    }
   ],
   "source": [
    "x,y = 18,4\n",
    "print(\"use of modulus operation for remainder : \", (x%y))"
   ]
  },
  {
   "cell_type": "code",
   "execution_count": 60,
   "id": "9242487e-675e-406c-89da-e36f461103ee",
   "metadata": {},
   "outputs": [
    {
     "name": "stdout",
     "output_type": "stream",
     "text": [
      "128\n"
     ]
    }
   ],
   "source": [
    "# ( a** b ) mean raising a  raised to the power of b \n",
    "print(2**7)"
   ]
  },
  {
   "cell_type": "code",
   "execution_count": 61,
   "id": "b2d2da6a-960c-48e4-8948-8e693c94dca0",
   "metadata": {},
   "outputs": [
    {
     "name": "stdout",
     "output_type": "stream",
     "text": [
      "Jaiguru\n"
     ]
    }
   ],
   "source": [
    "a = \"Jai\"\n",
    "b = \"guru\"\n",
    "print(a+b)"
   ]
  },
  {
   "cell_type": "code",
   "execution_count": 62,
   "id": "46230881-b0f7-4c4b-be54-dc5f0a086bda",
   "metadata": {},
   "outputs": [
    {
     "ename": "TypeError",
     "evalue": "unsupported operand type(s) for -: 'str' and 'str'",
     "output_type": "error",
     "traceback": [
      "\u001b[31m---------------------------------------------------------------------------\u001b[39m",
      "\u001b[31mTypeError\u001b[39m                                 Traceback (most recent call last)",
      "\u001b[36mCell\u001b[39m\u001b[36m \u001b[39m\u001b[32mIn[62]\u001b[39m\u001b[32m, line 3\u001b[39m\n\u001b[32m      1\u001b[39m a = \u001b[33m\"\u001b[39m\u001b[33mJai\u001b[39m\u001b[33m\"\u001b[39m\n\u001b[32m      2\u001b[39m b = \u001b[33m\"\u001b[39m\u001b[33mguru\u001b[39m\u001b[33m\"\u001b[39m\n\u001b[32m----> \u001b[39m\u001b[32m3\u001b[39m \u001b[38;5;28mprint\u001b[39m(a-b)\n",
      "\u001b[31mTypeError\u001b[39m: unsupported operand type(s) for -: 'str' and 'str'"
     ]
    }
   ],
   "source": [
    "a = \"Jai\"\n",
    "b = \"guru\"\n",
    "print(a-b)"
   ]
  },
  {
   "cell_type": "code",
   "execution_count": 63,
   "id": "5fe2569f-8982-4578-9833-9d20f798539e",
   "metadata": {},
   "outputs": [
    {
     "ename": "TypeError",
     "evalue": "can't multiply sequence by non-int of type 'str'",
     "output_type": "error",
     "traceback": [
      "\u001b[31m---------------------------------------------------------------------------\u001b[39m",
      "\u001b[31mTypeError\u001b[39m                                 Traceback (most recent call last)",
      "\u001b[36mCell\u001b[39m\u001b[36m \u001b[39m\u001b[32mIn[63]\u001b[39m\u001b[32m, line 3\u001b[39m\n\u001b[32m      1\u001b[39m a = \u001b[33m\"\u001b[39m\u001b[33mJai\u001b[39m\u001b[33m\"\u001b[39m\n\u001b[32m      2\u001b[39m b = \u001b[33m\"\u001b[39m\u001b[33mguru\u001b[39m\u001b[33m\"\u001b[39m\n\u001b[32m----> \u001b[39m\u001b[32m3\u001b[39m \u001b[38;5;28mprint\u001b[39m(a*b)\n",
      "\u001b[31mTypeError\u001b[39m: can't multiply sequence by non-int of type 'str'"
     ]
    }
   ],
   "source": [
    "a = \"Jai\"\n",
    "b = \"guru\"\n",
    "print(a*b)"
   ]
  },
  {
   "cell_type": "code",
   "execution_count": 64,
   "id": "9023524c-e892-4f7f-9034-94d6427a8083",
   "metadata": {},
   "outputs": [
    {
     "ename": "TypeError",
     "evalue": "unsupported operand type(s) for /: 'str' and 'str'",
     "output_type": "error",
     "traceback": [
      "\u001b[31m---------------------------------------------------------------------------\u001b[39m",
      "\u001b[31mTypeError\u001b[39m                                 Traceback (most recent call last)",
      "\u001b[36mCell\u001b[39m\u001b[36m \u001b[39m\u001b[32mIn[64]\u001b[39m\u001b[32m, line 3\u001b[39m\n\u001b[32m      1\u001b[39m a = \u001b[33m\"\u001b[39m\u001b[33mJai\u001b[39m\u001b[33m\"\u001b[39m\n\u001b[32m      2\u001b[39m b = \u001b[33m\"\u001b[39m\u001b[33mguru\u001b[39m\u001b[33m\"\u001b[39m\n\u001b[32m----> \u001b[39m\u001b[32m3\u001b[39m \u001b[38;5;28mprint\u001b[39m(a/b)\n",
      "\u001b[31mTypeError\u001b[39m: unsupported operand type(s) for /: 'str' and 'str'"
     ]
    }
   ],
   "source": [
    "a = \"Jai\"\n",
    "b = \"guru\"\n",
    "print(a/b)"
   ]
  },
  {
   "cell_type": "code",
   "execution_count": 69,
   "id": "cc4b39b2-e895-444e-a559-4f01717ebc81",
   "metadata": {},
   "outputs": [
    {
     "name": "stdout",
     "output_type": "stream",
     "text": [
      "195\n"
     ]
    }
   ],
   "source": [
    "a,b,c = 13, 15,18\n",
    "res1 = a * b\n",
    "print(res1)"
   ]
  },
  {
   "cell_type": "code",
   "execution_count": 77,
   "id": "f738075f-f01c-46f1-9c28-97639eb26a91",
   "metadata": {},
   "outputs": [
    {
     "name": "stdout",
     "output_type": "stream",
     "text": [
      "3919846118487824536018913454717090072507528130522483522908878824515783875029910214828903764891318328581152708023430303937832753603594212027576042377858219757879007834163451164567413157674881863269904465766127763456\n"
     ]
    }
   ],
   "source": [
    "sol = ((((234*654)-53462)+465127542)*45436**44)\n",
    "print(sol)"
   ]
  },
  {
   "cell_type": "code",
   "execution_count": 82,
   "id": "d020797e-d3aa-4cdd-9b31-7c541e3e50d5",
   "metadata": {},
   "outputs": [
    {
     "name": "stdout",
     "output_type": "stream",
     "text": [
      "False\n",
      "False\n",
      "True\n",
      "True\n"
     ]
    }
   ],
   "source": [
    "a = True\n",
    "b = False\n",
    "print( a and b)\n",
    "print( a & b)\n",
    "print( a or b)\n",
    "print( a | b)"
   ]
  },
  {
   "cell_type": "code",
   "execution_count": 87,
   "id": "dd5bf2a7-9e8d-47b3-b300-20c790fb538b",
   "metadata": {},
   "outputs": [
    {
     "name": "stdout",
     "output_type": "stream",
     "text": [
      "False\n",
      "True\n"
     ]
    }
   ],
   "source": [
    "print(not a)\n",
    "print(not b)"
   ]
  },
  {
   "cell_type": "code",
   "execution_count": 90,
   "id": "4039b1b9-e7e3-4cd1-b317-5004198aa853",
   "metadata": {},
   "outputs": [],
   "source": [
    "# for data analytics we need to learn about\n",
    "# 1. Numpy\n",
    "# 2. Pandas\n",
    "# 3. Seaborn\n",
    "# 4. Matplotlib\n",
    "# 5. Plotly\n",
    "# 6. jupyterhub"
   ]
  },
  {
   "cell_type": "markdown",
   "id": "a90ed642-f413-40b1-a123-b9030bcfef66",
   "metadata": {},
   "source": [
    "# Built-in Funtions in python"
   ]
  },
  {
   "cell_type": "markdown",
   "id": "d8b1ab3a-05f1-41c5-ac2c-25ddb9f623b5",
   "metadata": {
    "jp-MarkdownHeadingCollapsed": true
   },
   "source": [
    "# abs() function"
   ]
  },
  {
   "cell_type": "code",
   "execution_count": 95,
   "id": "b2c8c01a-8cd4-40b8-924b-88ebb1dee893",
   "metadata": {},
   "outputs": [
    {
     "name": "stdout",
     "output_type": "stream",
     "text": [
      "25.3435\n",
      "5.830951894845301\n"
     ]
    }
   ],
   "source": [
    "# it changes negative value to positive\n",
    "\n",
    "print(abs(-25.3435))\n",
    "print( abs(3-5j))"
   ]
  },
  {
   "cell_type": "markdown",
   "id": "cb26774b-a358-4d12-a078-1df1bfc7ed35",
   "metadata": {
    "jp-MarkdownHeadingCollapsed": true
   },
   "source": [
    "# bin() function"
   ]
  },
  {
   "cell_type": "code",
   "execution_count": 96,
   "id": "7fe212ba-3bb7-42aa-9b39-5da9a913bc91",
   "metadata": {},
   "outputs": [
    {
     "name": "stdout",
     "output_type": "stream",
     "text": [
      "0b1101\n",
      "0b100100100110\n"
     ]
    }
   ],
   "source": [
    "# it returns decimal/float integer value to binary value\n",
    "\n",
    "x,y = 13,2342\n",
    "\n",
    "print(bin(x))\n",
    "print(bin(y))"
   ]
  },
  {
   "cell_type": "markdown",
   "id": "84435d76-6b66-423b-a9a0-120a43378a6c",
   "metadata": {
    "jp-MarkdownHeadingCollapsed": true
   },
   "source": [
    "# bytes() function"
   ]
  },
  {
   "cell_type": "code",
   "execution_count": 99,
   "id": "34662083-e6df-458b-a58e-93377304fde4",
   "metadata": {},
   "outputs": [
    {
     "name": "stdout",
     "output_type": "stream",
     "text": [
      "b'\\x00\\x00\\x00\\x00\\x00\\x00\\x00\\x00\\x00\\x00\\x00\\x00\\x00'\n"
     ]
    }
   ],
   "source": [
    "# it returns decimal/float integer value to bytes value\n",
    "\n",
    "x = 13\n",
    "\n",
    "print(bytes(x))"
   ]
  },
  {
   "cell_type": "markdown",
   "id": "a97c6fcd-a1b3-417a-a99e-9d2afc08d708",
   "metadata": {
    "jp-MarkdownHeadingCollapsed": true
   },
   "source": [
    "# chr() function"
   ]
  },
  {
   "cell_type": "code",
   "execution_count": 135,
   "id": "164ba0d9-0591-44e6-a052-6abce15b77db",
   "metadata": {},
   "outputs": [
    {
     "name": "stdout",
     "output_type": "stream",
     "text": [
      "! ( 2 < F\n",
      "P Z d n x }\n"
     ]
    }
   ],
   "source": [
    "# changes the given integer value to its unicode character value\n",
    "\n",
    "print(chr(33), chr(40), chr(50), chr(60), chr(70))\n",
    "print(chr(80),chr(90), chr(100),chr(110),chr(120),chr(125))"
   ]
  },
  {
   "cell_type": "markdown",
   "id": "eabb5cfc-8353-4dae-b6d2-a30d761491c9",
   "metadata": {
    "jp-MarkdownHeadingCollapsed": true
   },
   "source": [
    "# complex() function"
   ]
  },
  {
   "cell_type": "code",
   "execution_count": 142,
   "id": "efac8474-f3c8-436e-8c85-3208a4850a5a",
   "metadata": {},
   "outputs": [
    {
     "name": "stdout",
     "output_type": "stream",
     "text": [
      "(8+0j)\n",
      "(-17.8+0j)\n",
      "(3+5j)\n",
      "(2.5+1.8j)\n",
      "(12-9j)\n",
      "(-17.8-45.21j)\n"
     ]
    }
   ],
   "source": [
    "# in 2 + 3j\n",
    "# 2 = real number\n",
    "# 3j = imaginary number\n",
    "\n",
    "# this function takes min 1 and max 2 parameters and returns a complex number\n",
    "\n",
    "print(complex(8))\n",
    "\n",
    "print(complex(-17.8))\n",
    "\n",
    "print(complex(3,5))\n",
    "\n",
    "print(complex(2.5,1.8))\n",
    "\n",
    "print(complex(12,-9))\n",
    "\n",
    "print(complex(-17.8,-45.21))"
   ]
  },
  {
   "cell_type": "markdown",
   "id": "bf265a68-65d0-43be-9442-9e7e4cfbd82b",
   "metadata": {
    "jp-MarkdownHeadingCollapsed": true
   },
   "source": [
    "# float() function"
   ]
  },
  {
   "cell_type": "code",
   "execution_count": 144,
   "id": "6690f99d-544d-4ecc-9416-9c5b03a883dd",
   "metadata": {},
   "outputs": [
    {
     "name": "stdout",
     "output_type": "stream",
     "text": [
      "12.0\n",
      "12.5\n"
     ]
    }
   ],
   "source": [
    "# it change the integer value to floatinf point number\n",
    "\n",
    "print(float(12))\n",
    "\n",
    "print(float(12.5))"
   ]
  },
  {
   "cell_type": "markdown",
   "id": "05d8d2e5-0fa8-4e8e-ab1a-f9b9cb3513a9",
   "metadata": {
    "jp-MarkdownHeadingCollapsed": true
   },
   "source": [
    "# int() function"
   ]
  },
  {
   "cell_type": "code",
   "execution_count": 170,
   "id": "fd594d70-b582-4b51-bfdb-1deaabdf2e91",
   "metadata": {},
   "outputs": [
    {
     "name": "stdout",
     "output_type": "stream",
     "text": [
      "12\n",
      "<class 'float'> <class 'str'> <class 'bool'>\n",
      "<class 'int'> <class 'int'> <class 'int'>\n"
     ]
    }
   ],
   "source": [
    "# it change the given parameter into integer\n",
    "\n",
    "print(int(12))\n",
    "\n",
    "a, b,c = 15.23, '123', False\n",
    "print(type(a), type(b), type(c))\n",
    "\n",
    "a,b,c = int(a), int(b), int(c)\n",
    "print(type(a), type(b), type(c))"
   ]
  },
  {
   "cell_type": "markdown",
   "id": "49d3ee48-35e6-428d-8e0c-e1e3c3f31f95",
   "metadata": {
    "jp-MarkdownHeadingCollapsed": true
   },
   "source": [
    "# str() function"
   ]
  },
  {
   "cell_type": "code",
   "execution_count": 165,
   "id": "7c6de8fc-968f-4e86-b664-91a6765f116b",
   "metadata": {},
   "outputs": [
    {
     "name": "stdout",
     "output_type": "stream",
     "text": [
      "<class 'int'> <class 'float'> <class 'bool'> <class 'complex'>\n",
      "<class 'str'> <class 'str'> <class 'str'> <class 'str'>\n"
     ]
    }
   ],
   "source": [
    "# it change the given parameter value into string\n",
    "\n",
    "w,x,y,z = 123, 300.21, True, 3+5j\n",
    "print(type(w), type(x), type(y), type(z))\n",
    "\n",
    "w, x,y,z = str(w), str(x), str(y), str(z)\n",
    "print(type(w), type(x), type(y), type(z))"
   ]
  },
  {
   "cell_type": "markdown",
   "id": "39fbcdc1-155d-4f04-adb3-4fb52ba8d715",
   "metadata": {
    "jp-MarkdownHeadingCollapsed": true
   },
   "source": [
    "# help() function"
   ]
  },
  {
   "cell_type": "code",
   "execution_count": 171,
   "id": "98afcd34-0b1e-41f7-9672-661a10c0b891",
   "metadata": {},
   "outputs": [
    {
     "name": "stdout",
     "output_type": "stream",
     "text": [
      "Help on class int in module builtins:\n",
      "\n",
      "class int(object)\n",
      " |  int([x]) -> integer\n",
      " |  int(x, base=10) -> integer\n",
      " |\n",
      " |  Convert a number or string to an integer, or return 0 if no arguments\n",
      " |  are given.  If x is a number, return x.__int__().  For floating-point\n",
      " |  numbers, this truncates towards zero.\n",
      " |\n",
      " |  If x is not a number or if base is given, then x must be a string,\n",
      " |  bytes, or bytearray instance representing an integer literal in the\n",
      " |  given base.  The literal can be preceded by '+' or '-' and be surrounded\n",
      " |  by whitespace.  The base defaults to 10.  Valid bases are 0 and 2-36.\n",
      " |  Base 0 means to interpret the base from the string as an integer literal.\n",
      " |  >>> int('0b100', base=0)\n",
      " |  4\n",
      " |\n",
      " |  Built-in subclasses:\n",
      " |      bool\n",
      " |\n",
      " |  Methods defined here:\n",
      " |\n",
      " |  __abs__(self, /)\n",
      " |      abs(self)\n",
      " |\n",
      " |  __add__(self, value, /)\n",
      " |      Return self+value.\n",
      " |\n",
      " |  __and__(self, value, /)\n",
      " |      Return self&value.\n",
      " |\n",
      " |  __bool__(self, /)\n",
      " |      True if self else False\n",
      " |\n",
      " |  __ceil__(self, /)\n",
      " |      Ceiling of an Integral returns itself.\n",
      " |\n",
      " |  __divmod__(self, value, /)\n",
      " |      Return divmod(self, value).\n",
      " |\n",
      " |  __eq__(self, value, /)\n",
      " |      Return self==value.\n",
      " |\n",
      " |  __float__(self, /)\n",
      " |      float(self)\n",
      " |\n",
      " |  __floor__(self, /)\n",
      " |      Flooring an Integral returns itself.\n",
      " |\n",
      " |  __floordiv__(self, value, /)\n",
      " |      Return self//value.\n",
      " |\n",
      " |  __format__(self, format_spec, /)\n",
      " |      Convert to a string according to format_spec.\n",
      " |\n",
      " |  __ge__(self, value, /)\n",
      " |      Return self>=value.\n",
      " |\n",
      " |  __getattribute__(self, name, /)\n",
      " |      Return getattr(self, name).\n",
      " |\n",
      " |  __getnewargs__(self, /)\n",
      " |\n",
      " |  __gt__(self, value, /)\n",
      " |      Return self>value.\n",
      " |\n",
      " |  __hash__(self, /)\n",
      " |      Return hash(self).\n",
      " |\n",
      " |  __index__(self, /)\n",
      " |      Return self converted to an integer, if self is suitable for use as an index into a list.\n",
      " |\n",
      " |  __int__(self, /)\n",
      " |      int(self)\n",
      " |\n",
      " |  __invert__(self, /)\n",
      " |      ~self\n",
      " |\n",
      " |  __le__(self, value, /)\n",
      " |      Return self<=value.\n",
      " |\n",
      " |  __lshift__(self, value, /)\n",
      " |      Return self<<value.\n",
      " |\n",
      " |  __lt__(self, value, /)\n",
      " |      Return self<value.\n",
      " |\n",
      " |  __mod__(self, value, /)\n",
      " |      Return self%value.\n",
      " |\n",
      " |  __mul__(self, value, /)\n",
      " |      Return self*value.\n",
      " |\n",
      " |  __ne__(self, value, /)\n",
      " |      Return self!=value.\n",
      " |\n",
      " |  __neg__(self, /)\n",
      " |      -self\n",
      " |\n",
      " |  __or__(self, value, /)\n",
      " |      Return self|value.\n",
      " |\n",
      " |  __pos__(self, /)\n",
      " |      +self\n",
      " |\n",
      " |  __pow__(self, value, mod=None, /)\n",
      " |      Return pow(self, value, mod).\n",
      " |\n",
      " |  __radd__(self, value, /)\n",
      " |      Return value+self.\n",
      " |\n",
      " |  __rand__(self, value, /)\n",
      " |      Return value&self.\n",
      " |\n",
      " |  __rdivmod__(self, value, /)\n",
      " |      Return divmod(value, self).\n",
      " |\n",
      " |  __repr__(self, /)\n",
      " |      Return repr(self).\n",
      " |\n",
      " |  __rfloordiv__(self, value, /)\n",
      " |      Return value//self.\n",
      " |\n",
      " |  __rlshift__(self, value, /)\n",
      " |      Return value<<self.\n",
      " |\n",
      " |  __rmod__(self, value, /)\n",
      " |      Return value%self.\n",
      " |\n",
      " |  __rmul__(self, value, /)\n",
      " |      Return value*self.\n",
      " |\n",
      " |  __ror__(self, value, /)\n",
      " |      Return value|self.\n",
      " |\n",
      " |  __round__(self, ndigits=<unrepresentable>, /)\n",
      " |      Rounding an Integral returns itself.\n",
      " |\n",
      " |      Rounding with an ndigits argument also returns an integer.\n",
      " |\n",
      " |  __rpow__(self, value, mod=None, /)\n",
      " |      Return pow(value, self, mod).\n",
      " |\n",
      " |  __rrshift__(self, value, /)\n",
      " |      Return value>>self.\n",
      " |\n",
      " |  __rshift__(self, value, /)\n",
      " |      Return self>>value.\n",
      " |\n",
      " |  __rsub__(self, value, /)\n",
      " |      Return value-self.\n",
      " |\n",
      " |  __rtruediv__(self, value, /)\n",
      " |      Return value/self.\n",
      " |\n",
      " |  __rxor__(self, value, /)\n",
      " |      Return value^self.\n",
      " |\n",
      " |  __sizeof__(self, /)\n",
      " |      Returns size in memory, in bytes.\n",
      " |\n",
      " |  __sub__(self, value, /)\n",
      " |      Return self-value.\n",
      " |\n",
      " |  __truediv__(self, value, /)\n",
      " |      Return self/value.\n",
      " |\n",
      " |  __trunc__(self, /)\n",
      " |      Truncating an Integral returns itself.\n",
      " |\n",
      " |  __xor__(self, value, /)\n",
      " |      Return self^value.\n",
      " |\n",
      " |  as_integer_ratio(self, /)\n",
      " |      Return a pair of integers, whose ratio is equal to the original int.\n",
      " |\n",
      " |      The ratio is in lowest terms and has a positive denominator.\n",
      " |\n",
      " |      >>> (10).as_integer_ratio()\n",
      " |      (10, 1)\n",
      " |      >>> (-10).as_integer_ratio()\n",
      " |      (-10, 1)\n",
      " |      >>> (0).as_integer_ratio()\n",
      " |      (0, 1)\n",
      " |\n",
      " |  bit_count(self, /)\n",
      " |      Number of ones in the binary representation of the absolute value of self.\n",
      " |\n",
      " |      Also known as the population count.\n",
      " |\n",
      " |      >>> bin(13)\n",
      " |      '0b1101'\n",
      " |      >>> (13).bit_count()\n",
      " |      3\n",
      " |\n",
      " |  bit_length(self, /)\n",
      " |      Number of bits necessary to represent self in binary.\n",
      " |\n",
      " |      >>> bin(37)\n",
      " |      '0b100101'\n",
      " |      >>> (37).bit_length()\n",
      " |      6\n",
      " |\n",
      " |  conjugate(self, /)\n",
      " |      Returns self, the complex conjugate of any int.\n",
      " |\n",
      " |  is_integer(self, /)\n",
      " |      Returns True. Exists for duck type compatibility with float.is_integer.\n",
      " |\n",
      " |  to_bytes(self, /, length=1, byteorder='big', *, signed=False)\n",
      " |      Return an array of bytes representing an integer.\n",
      " |\n",
      " |      length\n",
      " |        Length of bytes object to use.  An OverflowError is raised if the\n",
      " |        integer is not representable with the given number of bytes.  Default\n",
      " |        is length 1.\n",
      " |      byteorder\n",
      " |        The byte order used to represent the integer.  If byteorder is 'big',\n",
      " |        the most significant byte is at the beginning of the byte array.  If\n",
      " |        byteorder is 'little', the most significant byte is at the end of the\n",
      " |        byte array.  To request the native byte order of the host system, use\n",
      " |        sys.byteorder as the byte order value.  Default is to use 'big'.\n",
      " |      signed\n",
      " |        Determines whether two's complement is used to represent the integer.\n",
      " |        If signed is False and a negative integer is given, an OverflowError\n",
      " |        is raised.\n",
      " |\n",
      " |  ----------------------------------------------------------------------\n",
      " |  Class methods defined here:\n",
      " |\n",
      " |  from_bytes(bytes, byteorder='big', *, signed=False)\n",
      " |      Return the integer represented by the given array of bytes.\n",
      " |\n",
      " |      bytes\n",
      " |        Holds the array of bytes to convert.  The argument must either\n",
      " |        support the buffer protocol or be an iterable object producing bytes.\n",
      " |        Bytes and bytearray are examples of built-in objects that support the\n",
      " |        buffer protocol.\n",
      " |      byteorder\n",
      " |        The byte order used to represent the integer.  If byteorder is 'big',\n",
      " |        the most significant byte is at the beginning of the byte array.  If\n",
      " |        byteorder is 'little', the most significant byte is at the end of the\n",
      " |        byte array.  To request the native byte order of the host system, use\n",
      " |        sys.byteorder as the byte order value.  Default is to use 'big'.\n",
      " |      signed\n",
      " |        Indicates whether two's complement is used to represent the integer.\n",
      " |\n",
      " |  ----------------------------------------------------------------------\n",
      " |  Static methods defined here:\n",
      " |\n",
      " |  __new__(*args, **kwargs)\n",
      " |      Create and return a new object.  See help(type) for accurate signature.\n",
      " |\n",
      " |  ----------------------------------------------------------------------\n",
      " |  Data descriptors defined here:\n",
      " |\n",
      " |  denominator\n",
      " |      the denominator of a rational number in lowest terms\n",
      " |\n",
      " |  imag\n",
      " |      the imaginary part of a complex number\n",
      " |\n",
      " |  numerator\n",
      " |      the numerator of a rational number in lowest terms\n",
      " |\n",
      " |  real\n",
      " |      the real part of a complex number\n",
      "\n"
     ]
    }
   ],
   "source": [
    "# it describes the inbuilt datatypes working if given as parameter\n",
    "\n",
    "help(int)"
   ]
  },
  {
   "cell_type": "markdown",
   "id": "f67c29d0-ddb9-4a77-b9f5-b112ca48a720",
   "metadata": {
    "jp-MarkdownHeadingCollapsed": true
   },
   "source": [
    "# input() function"
   ]
  },
  {
   "cell_type": "code",
   "execution_count": 174,
   "id": "834ba254-50ae-4d24-8b44-27435f426ce9",
   "metadata": {},
   "outputs": [
    {
     "name": "stdin",
     "output_type": "stream",
     "text": [
      "Enter your name :  Ram\n"
     ]
    },
    {
     "name": "stdout",
     "output_type": "stream",
     "text": [
      "Entered name is :  Ram\n"
     ]
    }
   ],
   "source": [
    "# it takes the input from the user and makes it of String type by default\n",
    "\n",
    "x = input(\"Enter your name : \")\n",
    "print(\"Entered name is : \", x)"
   ]
  },
  {
   "cell_type": "code",
   "execution_count": 180,
   "id": "68cd4a06-3936-4ba2-b4fa-32bd1aed5009",
   "metadata": {},
   "outputs": [
    {
     "name": "stdin",
     "output_type": "stream",
     "text": [
      "Enter first value 11\n"
     ]
    },
    {
     "name": "stdout",
     "output_type": "stream",
     "text": [
      "<class 'str'>\n",
      "<class 'int'>\n"
     ]
    },
    {
     "name": "stdin",
     "output_type": "stream",
     "text": [
      "Enter second value 22\n"
     ]
    },
    {
     "name": "stdout",
     "output_type": "stream",
     "text": [
      "<class 'int'>\n",
      "11  +  22  =  33\n"
     ]
    }
   ],
   "source": [
    "x = input(\"Enter first value\")\n",
    "print(type(x))\n",
    "\n",
    "# explicit type casting of x into int type\n",
    "x = int(x)\n",
    "print(type(x))\n",
    "\n",
    "# same time type casting of y into int type\n",
    "y = int(input(\"Enter second value\"))\n",
    "print(type(y))\n",
    "\n",
    "\n",
    "sum = x + y\n",
    "print(x, \" + \", y, \" = \", sum)"
   ]
  },
  {
   "cell_type": "markdown",
   "id": "912f2daa-b021-40b0-9023-10f194490dc4",
   "metadata": {
    "jp-MarkdownHeadingCollapsed": true
   },
   "source": [
    "# Control Flow Statements / Loops"
   ]
  },
  {
   "cell_type": "code",
   "execution_count": 1,
   "id": "4633ac4c-816c-45c5-abb6-b60a73dfc322",
   "metadata": {},
   "outputs": [
    {
     "name": "stdout",
     "output_type": "stream",
     "text": [
      "100\n",
      "A+ grade\n"
     ]
    }
   ],
   "source": [
    "#IF-ELIF-ELSE condition\n",
    "\n",
    "import random as rd\n",
    "a = rd.randint(20,100)\n",
    "print(a)\n",
    "\n",
    "if a>=90:\n",
    "    print(\"A+ grade\");\n",
    "elif a>=80 and a<=89:\n",
    "    print(\"A grade\");\n",
    "elif a>=70 and a<=79:\n",
    "    print(\"B+ grade\");\n",
    "elif a>=60 and a<=69:\n",
    "    print(\"B grade\");\n",
    "elif a>=50 and a<=59:\n",
    "    print(\"C grade\");\n",
    "elif a>=40 and a<=49:\n",
    "    print(\"D grade\");\n",
    "else:\n",
    "    print(\"FAIL\");"
   ]
  },
  {
   "cell_type": "code",
   "execution_count": 9,
   "id": "1cfb1ed2-ee12-4129-a041-0d6ca6c62fc6",
   "metadata": {},
   "outputs": [
    {
     "name": "stdin",
     "output_type": "stream",
     "text": [
      "Enter any number of which you want the table :  88\n"
     ]
    },
    {
     "name": "stdout",
     "output_type": "stream",
     "text": [
      "88 176 264 352 440 528 616 704 792 880 "
     ]
    }
   ],
   "source": [
    "# WHILE LOOP\n",
    "num = int(input(\"Enter any number of which you want the table : \"));\n",
    "a,z = 1,10\n",
    "while a<=z:\n",
    "    print(a*num, end=\" \")\n",
    "    a = a+1"
   ]
  },
  {
   "cell_type": "code",
   "execution_count": 83,
   "id": "ab11df5f-3260-472e-854b-c264915ac54e",
   "metadata": {},
   "outputs": [
    {
     "name": "stdout",
     "output_type": "stream",
     "text": [
      "Current value of b :  7\n",
      "Loop broken at preset stop value of b =  7\n"
     ]
    }
   ],
   "source": [
    "# WHILE-ELSE\n",
    "\n",
    "import random as rd\n",
    "a = 1\n",
    "b = rd.randint(1,10)\n",
    "\n",
    "print(\"Current value of b : \",b)\n",
    "while a <= 10:\n",
    "    if b == 7 or b == 3:\n",
    "        print(\"Loop broken at preset stop value of b = \", b);\n",
    "        break;\n",
    "    print(\"Jai Shree Ram : \",a);\n",
    "    a = a+1;\n",
    "else :\n",
    "    print(\"Loop finished without break\")"
   ]
  },
  {
   "cell_type": "code",
   "execution_count": 107,
   "id": "34f6c02e-882e-4de1-96d9-1b7a54646dc6",
   "metadata": {},
   "outputs": [
    {
     "name": "stdout",
     "output_type": "stream",
     "text": [
      "k s j d b f w i e q b h l e b f e w l j h \n",
      "-----------------------------\n",
      "apple  mango  banana  grapes  dates  \n",
      "-----------------------------\n",
      "0 apple\n",
      "1 mango\n",
      "2 banana\n",
      "3 grapes\n",
      "4 dates\n",
      "\n",
      "-----------------------------\n",
      "0 1 2 3 4 5 6 7 8 9 10 11 12 13 14 15 16 17 18 19 20 \n",
      "-----------------------------\n",
      "2 3 4 5 6 7 8 9 10 11 12 13 14 15 16 17 18 19 \n",
      "-----------------------------\n",
      "-70 -52 -34 -16 2 20 38 56 74 92 \n",
      "-----------------------------\n"
     ]
    }
   ],
   "source": [
    "# FOR-LOOP\n",
    "\n",
    "for x in \"ksjdbfwieqbhlebfewljh\":\n",
    "    print(x, end=\" \")\n",
    "\n",
    "print(\"\\n-----------------------------\")\n",
    "\n",
    "fruits = ['apple','mango','banana','grapes','dates'];\n",
    "for f in fruits:\n",
    "    print(f, end='  ')\n",
    "\n",
    "print(\"\\n-----------------------------\")\n",
    "\n",
    "fr = ['apple','mango','banana','grapes','dates'];\n",
    "for i in range(len(fruits)):\n",
    "    print(i, fr[i])\n",
    "\n",
    "print(\"\\n-----------------------------\")\n",
    "\n",
    "for x in range(21):\n",
    "    print(x, end=\" \")\n",
    "    \n",
    "print(\"\\n-----------------------------\")\n",
    "\n",
    "for x in range(2,20):\n",
    "    print(x, end=\" \")\n",
    "\n",
    "print(\"\\n-----------------------------\")\n",
    "\n",
    "for x in range(-70,100, 18):\n",
    "    print(x, end=\" \")\n",
    "\n",
    "print(\"\\n-----------------------------\")"
   ]
  },
  {
   "cell_type": "code",
   "execution_count": 137,
   "id": "60d83428-237a-4879-9d4c-d891c90f5912",
   "metadata": {},
   "outputs": [
    {
     "name": "stdin",
     "output_type": "stream",
     "text": [
      "Enter the First number : \t 1\n",
      "Enter the Last number : \t 11\n"
     ]
    },
    {
     "name": "stdout",
     "output_type": "stream",
     "text": [
      "Prime Number between  1  and  11  are :\n",
      "1 2 3 5 7 "
     ]
    }
   ],
   "source": [
    "# FOR-ELSE\n",
    "\n",
    "n1 = int(input('Enter the First number : \\t'))\n",
    "n2 = int(input('Enter the Last number : \\t'))\n",
    "\n",
    "print(\"Prime Number between \",n1,\" and \",n2,\" are :\")\n",
    "\n",
    "for a in range(n1,n2):\n",
    "    for b in range(2,a):\n",
    "        if a % b == 0:\n",
    "            break;\n",
    "    else:\n",
    "        print(a, end=\" \");"
   ]
  },
  {
   "cell_type": "code",
   "execution_count": 140,
   "id": "90312a70-7f22-4288-b26b-3f437724d15d",
   "metadata": {},
   "outputs": [
    {
     "name": "stdout",
     "output_type": "stream",
     "text": [
      "Digit of the month :  10 \n",
      "It is Hemant Ritu / Pre- winter sesaon\n"
     ]
    }
   ],
   "source": [
    "# MATCH-CASE\n",
    "\n",
    "import random as rd\n",
    "\n",
    "monthDigit = rd.randint(1,12)\n",
    "\n",
    "print(\"Digit of the month : \",monthDigit,\"\\nIt is\",end=\" \")\n",
    "\n",
    "match(monthDigit):\n",
    "    case 2|3:\n",
    "        print(\"Vasant Ritu / Spring season\")\n",
    "    case 4|5:\n",
    "        print(\"Grishm Ritu / Summer season\")\n",
    "    case 6|7:\n",
    "        print(\"Varsha Ritu / Monsoon season\")\n",
    "    case 8|9:\n",
    "        print(\"Sharad Ritu / Autumn season\")\n",
    "    case 10|11:\n",
    "        print(\"Hemant Ritu / Pre- winter sesaon\")\n",
    "    case 12|1:\n",
    "        print(\"Shishir Ritu / Winter season\")\n"
   ]
  },
  {
   "cell_type": "code",
   "execution_count": 138,
   "id": "bdabad90-97e1-4a63-bb4d-ada1efcdd6ad",
   "metadata": {},
   "outputs": [
    {
     "name": "stdout",
     "output_type": "stream",
     "text": [
      "3\n"
     ]
    }
   ],
   "source": [
    "print(3)"
   ]
  },
  {
   "cell_type": "markdown",
   "id": "06bbca6e-da4f-4709-a89d-fa8dc85841aa",
   "metadata": {
    "jp-MarkdownHeadingCollapsed": true
   },
   "source": [
    "# USER-DEFINED FUNCTION"
   ]
  },
  {
   "cell_type": "code",
   "execution_count": 123,
   "id": "a2604e94-5932-42ef-88c5-3e03cbdbb713",
   "metadata": {},
   "outputs": [
    {
     "name": "stdout",
     "output_type": "stream",
     "text": [
      "This is my Function\n"
     ]
    }
   ],
   "source": [
    "# Defining a function\n",
    "\n",
    "def myFun():\n",
    "    print(\"This is my Function\")\n",
    "\n",
    "# calling the defined function\n",
    "\n",
    "myFun()"
   ]
  },
  {
   "cell_type": "code",
   "execution_count": 124,
   "id": "33db496c-fd18-4b65-b9a9-b2ccd70ff76e",
   "metadata": {},
   "outputs": [
    {
     "name": "stdout",
     "output_type": "stream",
     "text": [
      "My name is Raja\n"
     ]
    }
   ],
   "source": [
    "def myName(name):\n",
    "    print(\"My name is\",name)\n",
    "\n",
    "myName(\"Raja\")"
   ]
  },
  {
   "cell_type": "code",
   "execution_count": 141,
   "id": "ca1f63de-1b72-42c1-9f3f-f9f7c532e7ff",
   "metadata": {},
   "outputs": [
    {
     "name": "stdout",
     "output_type": "stream",
     "text": [
      "Ram  is of  18  and studies in class  12 .\n",
      "Sita  is of  18  and studies in class  12 .\n"
     ]
    }
   ],
   "source": [
    "def stdDetail(nm,ag,cl):\n",
    "    Name = nm\n",
    "    Age, Class = ag, cl\n",
    "    return [Name,Age,Class]\n",
    "\n",
    "dt = stdDetail(\"Ram\",18,12)\n",
    "print(dt[0], \" is of \",dt[1],\" and studies in class \",dt[2],\".\")\n",
    "\n",
    "dt = stdDetail(\"Sita\",18,12)\n",
    "print(dt[0], \" is of \",dt[1],\" and studies in class \",dt[2],\".\")\n"
   ]
  },
  {
   "cell_type": "markdown",
   "id": "ea1edeb4-ed3c-4abc-a4b9-87f20e146ca4",
   "metadata": {
    "jp-MarkdownHeadingCollapsed": true
   },
   "source": [
    "# STRINGS in PYTHON"
   ]
  },
  {
   "cell_type": "code",
   "execution_count": 142,
   "id": "5f8b244f-155c-4973-bb82-155fb74ceff2",
   "metadata": {},
   "outputs": [
    {
     "name": "stdout",
     "output_type": "stream",
     "text": [
      "A \n",
      " 1 \n",
      " Python \n",
      " Snake \n",
      "\n"
     ]
    }
   ],
   "source": [
    "# String are the group of characters or single character enclosed in single inverted commas or double inverted commas\n",
    "\n",
    "str0 = 'A'\n",
    "str1 = \"1\"\n",
    "str2 = 'Python'\n",
    "str3 = \"Snake\"\n",
    "print(str0,\"\\n\",str1,\"\\n\",str2,\"\\n\",str3,\"\\n\")"
   ]
  },
  {
   "cell_type": "code",
   "execution_count": 143,
   "id": "ee5f94be-b780-4a79-95cd-839cb6a52417",
   "metadata": {},
   "outputs": [
    {
     "name": "stdout",
     "output_type": "stream",
     "text": [
      "The Hindu calendar has traditionally divided the year into these six seasons, with each season comprising two solar months. This classification dates back to Vedic times and is deeply rooted in the agricultural cycle of India. While the four season classification is more common worldwide, Hindus still follow the six season calendar for religious and cultural purposes.\n"
     ]
    }
   ],
   "source": [
    "str4 = \"The Hindu calendar has traditionally divided the year into these six seasons, with each season comprising two solar months. This classification dates back to Vedic times and is deeply rooted in the agricultural cycle of India. While the four season classification is more common worldwide, Hindus still follow the six season calendar for religious and cultural purposes.\"\n",
    "print(str4)"
   ]
  },
  {
   "cell_type": "code",
   "execution_count": 145,
   "id": "7130e593-4fe0-4662-9394-3f43c6d677c2",
   "metadata": {},
   "outputs": [
    {
     "name": "stdout",
     "output_type": "stream",
     "text": [
      " The Hindu calendar has traditionally\n",
      "divided the year into these six seasons, \n",
      "with each season comprising two solar months. \n",
      "This classification dates back to \n",
      "Vedic times and is deeply rooted in \n",
      "the agricultural cycle of India. \n",
      "While the four season classification is more common worldwide, \n",
      "Hindus still follow the six season calendar for \n",
      "religious and cultural purposes. \n"
     ]
    }
   ],
   "source": [
    "# use of triple inverted commas allow us to print the line in our style\"\n",
    "str5 = \"\"\" The Hindu calendar has traditionally\n",
    "divided the year into these six seasons, \n",
    "with each season comprising two solar months. \n",
    "This classification dates back to \n",
    "Vedic times and is deeply rooted in \n",
    "the agricultural cycle of India. \n",
    "While the four season classification is more common worldwide, \n",
    "Hindus still follow the six season calendar for \n",
    "religious and cultural purposes. \"\"\"\n",
    "\n",
    "print(str5)"
   ]
  },
  {
   "cell_type": "code",
   "execution_count": 156,
   "id": "06e5839f-eb9e-421f-aa9f-e2f531418688",
   "metadata": {},
   "outputs": [
    {
     "name": "stdout",
     "output_type": "stream",
     "text": [
      "12\n",
      "--------------------\n",
      "J\n",
      "a\n",
      "i\n",
      "m\n",
      "--------------------\n",
      "m\n",
      "a\n",
      "R\n",
      "y\n"
     ]
    }
   ],
   "source": [
    "# Indexing of String\n",
    "\n",
    "greeting = \"Jai Siya Ram\"\n",
    "print(len(greeting))\n",
    "print(\"--------------------\")\n",
    "print(greeting[0])\n",
    "print(greeting[1])\n",
    "print(greeting[5])\n",
    "print(greeting[11])\n",
    "print(\"--------------------\")\n",
    "print(greeting[-1])\n",
    "print(greeting[-2])\n",
    "print(greeting[-3])\n",
    "print(greeting[-6])"
   ]
  },
  {
   "cell_type": "code",
   "execution_count": 223,
   "id": "06d96c98-42fc-44fb-8d1e-d16ce9748254",
   "metadata": {},
   "outputs": [
    {
     "name": "stdout",
     "output_type": "stream",
     "text": [
      "length of the sentence :  41\n",
      "--------------------\n",
      "Congratulations Raja for your acheivement\n",
      "Cgtao jf uaeen\n",
      "--------------------\n",
      "rat\n",
      "lation\n",
      "Raja\n",
      "for your\n",
      "f u\n",
      "--------------------\n",
      "Congratulations Raja for \n",
      "Cgtao jf \n",
      "------- reversing using negtive steps -------------\n",
      "tnemeviehca ruoy rof ajaR snoitalutargnoC\n",
      "--------- negative indexes -----------\n",
      "t\n",
      "Congratulations Raja for your acheivemen\n",
      "for your acheiveme\n",
      "Raoyrcim\n",
      "--------------------\n",
      "Cgtao jf Raoyrcim\n",
      "Cgtao jf Raoyrcim yoyo\n"
     ]
    }
   ],
   "source": [
    "# Slicing of String\n",
    "\n",
    "sen = \"Congratulations Raja for your acheivement\"\n",
    "print(\"length of the sentence : \",len(sen))\n",
    "print(\"--------------------\")\n",
    "print(sen[0:])\n",
    "print(sen[0::3])\n",
    "print(\"--------------------\")\n",
    "print(sen[4:7])\n",
    "print(sen[8:14])\n",
    "print(sen[16:20])\n",
    "print(sen[21:29])\n",
    "\n",
    "#the 3rd parameter is STEPS and it is (a = a+1) always\n",
    "\n",
    "print(sen[21:29:3])\n",
    "print(\"--------------------\")\n",
    "print(sen[:25])\n",
    "print(sen[:25:3])\n",
    "print(\"------- reversing using negtive steps -------------\")\n",
    "print(sen[::-1])\n",
    "print(\"--------- negative indexes -----------\")\n",
    "print(sen[-1:])\n",
    "print(sen[:-1])\n",
    "print(sen[-20:-2])\n",
    "print(sen[-25:-2:3])\n",
    "print(\"--------------------\")\n",
    "print(sen[:25:3] + sen[-25:-2:3])\n",
    "print(sen[:25:3] + sen[-25:-2:3] + \" yoyo\")"
   ]
  },
  {
   "cell_type": "markdown",
   "id": "41c60ee2-9fb8-4636-9c02-e12ee84a8bf1",
   "metadata": {
    "jp-MarkdownHeadingCollapsed": true
   },
   "source": [
    "# .upper() and .lower() function"
   ]
  },
  {
   "cell_type": "code",
   "execution_count": 224,
   "id": "abc36eda-dace-4d1b-ba00-0afc9d417fd8",
   "metadata": {},
   "outputs": [
    {
     "name": "stdout",
     "output_type": "stream",
     "text": [
      "--------- use of .upper() method -----------\n",
      "CONGRATULATIONS RAJA FOR YOUR ACHEIVEMENT\n",
      "RAJA\n",
      "--------- use of .lower() method -----------\n",
      "raja\n"
     ]
    }
   ],
   "source": [
    "print(\"--------- use of .upper() method -----------\")\n",
    "print(sen.upper())\n",
    "nm = sen[16:20].upper()\n",
    "print(nm)\n",
    "print(\"--------- use of .lower() method -----------\")\n",
    "print(nm.lower())"
   ]
  },
  {
   "cell_type": "markdown",
   "id": "d8fd2550-a406-47fa-ab11-69f50396f30a",
   "metadata": {
    "jp-MarkdownHeadingCollapsed": true
   },
   "source": [
    "# .replace() function"
   ]
  },
  {
   "cell_type": "code",
   "execution_count": 237,
   "id": "7758c75c-1b20-4444-8e9d-5549bc0996aa",
   "metadata": {},
   "outputs": [
    {
     "name": "stdout",
     "output_type": "stream",
     "text": [
      "Hi, my name is raja\n",
      "Hi, my name is Rajat.\n",
      "My belief is that this project will arise some issues.\n",
      "My belief @@ that th@@ project will ar@@e some @@sues.\n"
     ]
    }
   ],
   "source": [
    "intro = \"Hi, my name is raja\"\n",
    "print(intro)\n",
    "print(intro.replace('raja','Rajat.'))\n",
    "\n",
    "a = \"My belief is that this project will arise some issues.\"\n",
    "print(a)\n",
    "print(a.replace('is','@@'))"
   ]
  },
  {
   "cell_type": "markdown",
   "id": "56ac2cef-48fc-4499-8d28-087bebaa18a1",
   "metadata": {
    "jp-MarkdownHeadingCollapsed": true
   },
   "source": [
    "# .find() function - to find the index of first encountered"
   ]
  },
  {
   "cell_type": "code",
   "execution_count": 242,
   "id": "525c0335-a2dc-48ac-b188-32a3057a47d6",
   "metadata": {},
   "outputs": [
    {
     "name": "stdout",
     "output_type": "stream",
     "text": [
      "1\n",
      "9\n",
      "9\n"
     ]
    }
   ],
   "source": [
    "a = \"Jai Siya Ram\"\n",
    "print(a.find(\"a\"))\n",
    "print(a.find(\"R\"))\n",
    "print(a.find(\"Ram\"))"
   ]
  },
  {
   "cell_type": "markdown",
   "id": "4ce86bbf-378e-4646-b00e-da5b3c39e634",
   "metadata": {},
   "source": [
    "# LIST in python"
   ]
  },
  {
   "cell_type": "code",
   "execution_count": 322,
   "id": "464d861b-7301-41d8-8f1f-abdcb83ac999",
   "metadata": {},
   "outputs": [
    {
     "name": "stdout",
     "output_type": "stream",
     "text": [
      "lenth of L1 :  12\n",
      "[1, 2, 3, 4, 1, 2, 3, True, 'ram', 11.12, 'Sita', (2+5j)]\n",
      "----------------------------------\n",
      "\n",
      "lenth of L2 :  6\n",
      "[1, 2, 3, 4, 1, 2, 3, True, 'ram', 11.12, 'Sita', (2+5j), 'a', 122, 'Radha', 67.33, False, (8-6j)]\n",
      "18\n",
      "----------------------------------\n",
      "\n",
      "[1, 2, 3, 4, 1, 2, 3, True, 'ram', 11.12, 'Sita', (2+5j), ['a', 122, 'Radha', 67.33, False, (8-6j)]]\n",
      "new lenth of L1 :  13\n",
      "-------------- Accessing list element --------------------\n",
      "\n",
      "2\n",
      "Sita\n",
      "11.12\n",
      "['a', 122, 'Radha', 67.33, False, (8-6j)]\n",
      "67.33\n",
      "False\n",
      "10\n",
      "1\n",
      "5\n",
      "\n",
      "-------------- SLICING in LIST --------------------\n",
      "\n",
      "['apple', 12, 'kivi', 17.9, True, (7+9j)]\n",
      "['apple', 'kivi', True]\n",
      "\n",
      "-------------- sorting the LIST elements --------------------\n",
      "\n",
      "[45, 21, 67, 32, 89, 34, 56, 98, 11, 33]\n",
      "[11, 21, 32, 33, 34, 45, 56, 67, 89, 98]\n",
      "\n",
      "--------- reversing the LIST elements using .reverse() funtion, negative steps ---------\n",
      "\n",
      "[(7+9j), True, 17.9, 'kivi', 12, 'apple']\n",
      "['apple', 12, 'kivi', 17.9, True, (7+9j)]\n",
      "[(7+9j), 'kivi']\n",
      "\n",
      "['kivi', 17.9, True, (7+9j)]\n",
      "[True, 17.9, 'kivi', 12, 'apple']\n",
      "\n",
      "['apple', 12, 'kivi', 17.9, True, (7+9j)]\n",
      "[(7+9j), True]\n",
      "\n",
      "[12, 'kivi', 17.9, True, (7+9j)]\n",
      "[12, 17.9, (7+9j)]\n",
      "\n",
      "-------------- mutability if the elements of LIST --------------------\n",
      "\n",
      "['apple', 12, 'kivi', 17.9, True, (7+9j)]\n",
      "['apple', 12, 'RAM', 17.9, True, (7+9j)]\n",
      "\n",
      "-------------- .insert() function in LIST --------------------\n",
      "\n",
      "['apple', 12, 'RAM', 17.9, True, (7+9j)]\n",
      "['Hello', 'apple', 12, 'RAM', 17.9, True, (7+9j)]\n",
      "['Hello', 'apple', 12, 'RAM', None, 17.9, True, (7+9j)]\n",
      "\n",
      "-------------- .append() function of LIST [insertion at last] --------------------\n",
      "\n",
      "['Hello', 'apple', 12, 'RAM', None, 17.9, True, (7+9j)]\n",
      "['Hello', 'apple', 12, 'RAM', None, 17.9, True, (7+9j), 'Krishna']\n",
      "['Hello', 'apple', 12, 'RAM', None, 17.9, True, (7+9j), 'Krishna', 212]\n",
      "\n",
      "-------------- replacing elements of LIST --------------------\n",
      "\n",
      "['Hello', 'apple', 12, 'RAM', None, 17.9, True, (7+9j), 'Krishna', 212]\n",
      "['Hello', 'apple', 'Jai', 'Siya', 'Ram', 1008, None, 17.9, True, (7+9j), 'Krishna', 212]\n",
      "\n",
      "-------------- removing elements from LIST , .remove(), .pop() function --------------------\n",
      "\n",
      "['Hello', 'apple', 'Jai', 'Siya', 'Ram', 1008, None, 17.9, True, (7+9j), 'Krishna', 212]\n",
      "['Hello', 'apple', True, (7+9j), 'Krishna', 212]\n",
      "['Hello', True, (7+9j), 'Krishna', 212]\n",
      "['Hello', True, (7+9j), 'Krishna']\n"
     ]
    }
   ],
   "source": [
    "# list uses square brackates\n",
    "# allows duplicate values, various data-type elements\n",
    "\n",
    "L1 = [1,2,3,4,1,2,3,True,'ram',11.12,\"Sita\",2+5j]\n",
    "print(\"lenth of L1 : \",len(L1))\n",
    "print(L1)\n",
    "print(\"----------------------------------\\n\")\n",
    "L2 = ['a',122,\"Radha\",67.33,False,8-6j]\n",
    "print(\"lenth of L2 : \",len(L2))\n",
    "print(L1+L2)\n",
    "print(len(L1+L2))\n",
    "print(\"----------------------------------\\n\")\n",
    "L1 = [1,2,3,4,1,2,3,True,'ram',11.12,\"Sita\",2+5j,L2]\n",
    "print(L1)\n",
    "print(\"new lenth of L1 : \",len(L1))\n",
    "print(\"-------------- Accessing list element --------------------\\n\")\n",
    "print(L1[1])\n",
    "print(L1[10])\n",
    "print(L1[-4])\n",
    "print(L1[12])\n",
    "print(L1[12][3])\n",
    "print(L1[12][-2])\n",
    "\n",
    "#aceesing index of Sita after index 0\n",
    "print(L1.index('Sita'))\n",
    "#aceesing index of 2 from index 0\n",
    "print(L1.index(2))\n",
    "#aceesing index of 2 after index 3\n",
    "print(L1.index(2,3))\n",
    "\n",
    "print(\"\\n-------------- SLICING in LIST --------------------\\n\")\n",
    "L3 = [\"apple\",12,'kivi',17.9,True,7+9j]\n",
    "print(L3[::])\n",
    "print(L3[::2])\n",
    "\n",
    "print(\"\\n-------------- sorting the LIST elements --------------------\\n\")\n",
    "L4 = [45,21,67,32,89,34,56,98,11,33]\n",
    "print(L4)\n",
    "L4.sort()\n",
    "print(L4)\n",
    "\n",
    "print(\"\\n--------- reversing the LIST elements using .reverse() funtion, negative steps ---------\\n\")\n",
    "L3.reverse()\n",
    "print(L3)\n",
    "L3 = L3[::-1]\n",
    "print(L3)\n",
    "\n",
    "print(L3[::-3])\n",
    "\n",
    "print()\n",
    "\n",
    "print(L3[2:])\n",
    "print(L3[4::-1])\n",
    "\n",
    "print()\n",
    "\n",
    "print(L3[:50])\n",
    "print(L3[:3:-1])\n",
    "\n",
    "print()\n",
    "\n",
    "print(L3[1:50])\n",
    "print(L3[1:50:2])\n",
    "\n",
    "print(\"\\n-------------- mutability if the elements of LIST --------------------\\n\")\n",
    "\n",
    "print(L3)\n",
    "L3[2] = \"RAM\"\n",
    "print(L3)\n",
    "\n",
    "print(\"\\n-------------- .insert() function in LIST --------------------\\n\")\n",
    "print(L3)\n",
    "L3.insert(0,\"Hello\")\n",
    "print(L3)\n",
    "L3.insert(4,None)\n",
    "print(L3)\n",
    "\n",
    "print(\"\\n-------------- .append() function of LIST [insertion at last] --------------------\\n\")\n",
    "\n",
    "print(L3)\n",
    "L3.append(\"Krishna\")\n",
    "print(L3)\n",
    "L3.append(212)\n",
    "print(L3)\n",
    "\n",
    "print(\"\\n-------------- replacing elements of LIST --------------------\\n\")\n",
    "print(L3)\n",
    "L3[2:4] = [\"Jai\",'Siya',\"Ram\",1008]\n",
    "print(L3)\n",
    "\n",
    "print(\"\\n-------------- removing elements from LIST , .remove(), .pop() function --------------------\\n\")\n",
    "print(L3)\n",
    "L3[2:8] = []\n",
    "print(L3)\n",
    "L3.remove(\"apple\")\n",
    "print(L3)\n",
    "L3.pop()\n",
    "print(L3)"
   ]
  },
  {
   "cell_type": "markdown",
   "id": "32f19727-3b21-4e7c-a8ee-9c0788d7e521",
   "metadata": {
    "jp-MarkdownHeadingCollapsed": true
   },
   "source": [
    "# TUPLE in python"
   ]
  },
  {
   "cell_type": "code",
   "execution_count": 406,
   "id": "0333e438-50d4-4d97-b8f4-1c06def940d4",
   "metadata": {},
   "outputs": [
    {
     "name": "stdout",
     "output_type": "stream",
     "text": [
      "<class 'tuple'>\n",
      "('Jai', 'Siya', 1001)\n",
      "(17, 'Ram', 13.33, 'Siya', None, (3-5j), 10, 'Siya', ('Jai', 'Siya', 1001), ['a', 122, 'Radha', 67.33, False, (8-6j)])\n",
      "Count of siya in tuple t2 :  2\n",
      "('I', 'n', 'd', 'i', 'a')\n",
      "--------- Accessing the elements of tuple by Inexing ------------\n",
      "Length of tuple t2 is :  10\n",
      "17\n",
      "['a', 122, 'Radha', 67.33, False, (8-6j)]\n",
      "Siya\n",
      "Radha\n",
      "2\n",
      "4\n",
      "--------- SLICING in tuple ------------\n",
      "(17, 'Ram', 13.33, 'Siya', None, (3-5j), 10, 'Siya', ('Jai', 'Siya', 1001), ['a', 122, 'Radha', 67.33, False, (8-6j)])\n",
      "(13.33, 'Siya', None, (3-5j))\n",
      "(13.33, None, 10)\n",
      "(None, 'Siya', 13.33, 'Ram', 17)\n",
      "(13.33, 'Siya', None, (3-5j), 10, 'Siya')\n",
      "(13.33, None, 10)\n",
      "(('Jai', 'Siya', 1001), 10, None)\n",
      "--------- Tuple packing and unpacking ------------\n",
      "(30, 50, 20, 10, 40)\n",
      "10 50 40 30 20\n",
      "--------- sorting Tuple elements ------------\n",
      "(30, 50, 20, 10, 40)\n",
      "minimum :  10\n",
      "maximum :  50\n",
      "[10, 20, 30, 40, 50]\n",
      "Sum total :  150\n",
      "Length :  5\n",
      "('I', 'n', 'd', 'i', 'a', 30, 50, 20, 10, 40)\n",
      "('I', 'n', 'd', 'i', 'a', 'I', 'n', 'd', 'i', 'a', 'I', 'n', 'd', 'i', 'a', 'I', 'n', 'd', 'i', 'a')\n",
      "('I', 'n', 'd', 'i', 'a', 'I', 'n', 'd', 'i', 'a')\n"
     ]
    }
   ],
   "source": [
    "# ordered, immutable (unchangeable), can store different data types and duplicates\n",
    "# uses round brackets ().\n",
    "\n",
    "t1 = (12,)\n",
    "print(type(t1))\n",
    "\n",
    "t3 = tuple([\"Jai\",'Siya',1001])\n",
    "print(t3)\n",
    "\n",
    "t2 = (17,'Ram',13.33,\"Siya\",None,3-5j,10,\"Siya\", t3, L2)\n",
    "print(t2)\n",
    "print(\"Count of siya in tuple t2 : \", t2.count(\"Siya\"))\n",
    "\n",
    "t4 = tuple(\"India\")\n",
    "print(t4)\n",
    "\n",
    "print(\"--------- Accessing the elements of tuple by Inexing ------------\")\n",
    "\n",
    "#accessing element index by name/value\n",
    "print(\"Length of tuple t2 is : \",len(t2))\n",
    "\n",
    "#accessing first element\n",
    "print(t2[0])\n",
    "\n",
    "#accessing last element\n",
    "print(t2[-1])\n",
    "\n",
    "\n",
    "#accessing 7th last element\n",
    "print(t2[-7])\n",
    "\n",
    "#accessing 2nd element of 9th element\n",
    "print(t2[9][2])\n",
    "\n",
    "#accessing element index by name/value\n",
    "print(t2.index(13.33))\n",
    "print(t2[9].index(False))\n",
    "\n",
    "print(\"--------- SLICING in tuple ------------\")\n",
    "\n",
    "print(t2)\n",
    "print(t2[2:6])\n",
    "print(t2[2:7:2])\n",
    "\n",
    "# selected range element revese\n",
    "print(t2[4::-1])\n",
    "\n",
    "print(t2[2:-2])\n",
    "print(t2[2:-2:2])\n",
    "\n",
    "print(t2[-2:2:-2])\n",
    "\n",
    "print(\"--------- Tuple packing and unpacking ------------\")\n",
    "\n",
    "# packing\n",
    "t5 = 30,50,20,10,40\n",
    "print(t5)\n",
    "\n",
    "# Unpacking\n",
    "d,b,e,a,c = t5\n",
    "print(a,b,c,d,e)\n",
    "\n",
    "print(\"--------- sorting Tuple elements ------------\")\n",
    "print(t5)\n",
    "print(\"minimum : \",min(t5))\n",
    "print(\"maximum : \",max(t5))\n",
    "print(sorted(t5))\n",
    "print(\"Sum total : \",sum(t5))\n",
    "print(\"Length : \",len(t5))\n",
    "\n",
    "print(t4+t5)\n",
    "print(t4*4)\n",
    "print(t4+t4)\n",
    "# # we can't add elements to a tuple directly once tuple is formed\n",
    "# # but we can change the TUPLE in LIST then add the element and again change the LIST to TUPLE\n",
    "\n",
    "# lt = list(t5)\n",
    "# print(lt)\n",
    "# lt.append(50)\n",
    "# print(lt)\n",
    "# lt.insert(0,1)\n",
    "# print(lt)\n",
    "# lt.insert(3,15)\n",
    "# print(lt)\n",
    "# t5 = tuple(lt)\n",
    "# print(t5)\n",
    "\n",
    "# # we can't remove elements to a tuple directly once tuple is formed\n",
    "# # but we can change the TUPLE in LIST then remove the element and again change the LIST to TUPLE\n",
    "\n",
    "# lt = list(t5)\n",
    "# print(lt)\n",
    "# lt.remove(30)\n",
    "# print(lt)\n",
    "# lt.pop()\n",
    "# print(lt)\n",
    "# lt[2:4] = []\n",
    "# print(lt)\n",
    "# t5 = tuple(lt)\n",
    "# print(t5)\n",
    "\n"
   ]
  },
  {
   "cell_type": "markdown",
   "id": "d3e26257-161f-4e9e-a43c-03e204575dca",
   "metadata": {
    "jp-MarkdownHeadingCollapsed": true
   },
   "source": [
    "# DICTIONARY in python"
   ]
  },
  {
   "cell_type": "code",
   "execution_count": 459,
   "id": "4715deae-f208-4dd6-99d5-845789692f5b",
   "metadata": {},
   "outputs": [
    {
     "name": "stdout",
     "output_type": "stream",
     "text": [
      "{'Country': 'India', 'River': 'Ganga', 'Capital': 'Delhi', 'CountryCode': 91}\n",
      "{'Name': 'Ramesh', 'Age': 30, 'Salary': 90857.87, 'titles': ['King', 'Champion', 1001], 'sub': ('Hindi', 'Math', 407, 1081.65), 'Error': None, 'complex': (3+5j)}\n",
      "\n",
      "---------- Accessing dictionary Elements, Keys, values ------------\n",
      "\n",
      "dict_keys(['Name', 'Age', 'Salary', 'titles', 'sub', 'Error', 'complex'])\n",
      "dict_values(['Ramesh', 30, 90857.87, ['King', 'Champion', 1001], ('Hindi', 'Math', 407, 1081.65), None, (3+5j)])\n",
      "dict_items([('Name', 'Ramesh'), ('Age', 30), ('Salary', 90857.87), ('titles', ['King', 'Champion', 1001]), ('sub', ('Hindi', 'Math', 407, 1081.65)), ('Error', None), ('complex', (3+5j))])\n",
      "Ramesh\n",
      "Champion\n",
      "30\n",
      "Not Available\n",
      "\n",
      "---------- Adding/ updating dictionary items ------------\n",
      "\n",
      "{'Name': 'Ramesh', 'Age': 30, 'Salary': 90857.87, 'titles': ['King', 'Champion', 1001], 'sub': ('Hindi', 'Math', 407, 1081.65), 'Error': None, 'complex': (3+5j)}\n",
      "{'Name': 'Ramesh', 'Age': 30, 'Salary': 90857.87, 'titles': ['King', 'Champion', 1001], 'sub': ('Hindi', 'Math', 407, 1081.65), 'Error': None, 'complex': (3+5j), 'City': 'Delhi'}\n",
      "{'Name': 'Ramesh', 'Age': 30, 'Salary': 90857.87, 'titles': ['King', 'Champion', 1001], 'sub': ('Hindi', 'Math', 407, 1081.65), 'Error': None, 'complex': (3+5j), 'City': 'Delhi', 'County': 'India', 'Phone code': 91}\n",
      "{'Name': 'Ramesh', 'Age': 30, 'Salary': 90857.87, 'titles': 'Hero', 'sub': ('Hindi', 'Math', 407, 1081.65), 'Error': None, 'complex': (3+5j), 'City': 'Delhi', 'County': 'India', 'Phone code': 91}\n",
      "\n",
      "---------- update dictionary using unpacking ** ------------\n",
      "\n",
      "{'Name': 'Rajat', 'Age': 30, 'Salary': 90857.87, 'titles': 'Hero', 'sub': ('Hindi', 'Math', 407, 1081.65), 'Error': None, 'complex': (3+5j), 'City': 'Delhi', 'County': 'India', 'Phone code': 91, 'Zip': 110001}\n",
      "\n",
      "---------- Delete dictionary elements  ------------\n",
      "\n",
      "{'Name': 'Rajat', 'Age': 30, 'Salary': 90857.87, 'sub': ('Hindi', 'Math', 407, 1081.65), 'Error': None, 'complex': (3+5j), 'City': 'Delhi', 'County': 'India', 'Phone code': 91, 'Zip': 110001}\n",
      "{'Name': 'Rajat', 'Age': 30, 'Salary': 90857.87, 'sub': ('Hindi', 'Math', 407, 1081.65), 'Error': None, 'complex': (3+5j), 'City': 'Delhi', 'County': 'India', 'Phone code': 91}\n",
      "{'Name': 'Rajat', 'Age': 30, 'Salary': 90857.87, 'sub': ('Hindi', 'Math', 407, 1081.65), 'Error': None, 'complex': (3+5j), 'County': 'India', 'Phone code': 91}\n",
      "{'Name': 'Rajat', 'Age': 30, 'Salary': 90857.87, 'sub': ('Hindi', 'Math', 407, 1081.65), 'Error': None, 'complex': (3+5j), 'County': 'India', 'Phone code': 91}\n",
      "{}\n",
      "{}\n",
      "{'Name': 'Rajat', 'Age': 30, 'Salary': 90857.87, 'County': 'India', 'Phone code': 91}\n",
      "Length of d1 :  5\n"
     ]
    }
   ],
   "source": [
    "# unordered, mutable collection of key-value pairs and defined using {} \n",
    "# duplicates not allowed , will take last same key-value pair only\n",
    "\n",
    "d0 = dict(Country=\"India\", River=\"Ganga\", Capital=\"Delhi\", CountryCode=91)\n",
    "print(d0)\n",
    "\n",
    "d1 = {\n",
    "    'Name' : \"Raja\",\n",
    "    'Age' : 30,\n",
    "    'Salary' : 90857.87,\n",
    "    'titles' : ['King',\"Champion\",1001],\n",
    "    'Name' : \"Ramesh\",\n",
    "    'sub' : ('Hindi',\"Math\",407,1081.65),\n",
    "    'Error' : None,\n",
    "    'complex' : 3+5j,\n",
    "}\n",
    "print(d1)\n",
    "\n",
    "print(\"\\n---------- Accessing dictionary Elements, Keys, values ------------\\n\")\n",
    "\n",
    "print(d1.keys())\n",
    "print(d1.values())\n",
    "print(d1.items())\n",
    "\n",
    "print(d1[\"Name\"])\n",
    "print(d1[\"titles\"][1])\n",
    "print(d1.get('Age'))\n",
    "print(d1.get('City',\"Not Available\"))\n",
    "\n",
    "print(\"\\n---------- Adding/ updating dictionary items ------------\\n\")\n",
    "\n",
    "print(d1)\n",
    "d1['City'] = \"Delhi\"\n",
    "print(d1)\n",
    "\n",
    "d1.update({'County': \"India\", 'Phone code': 91})\n",
    "print(d1)\n",
    "d1.update({'titles' : 'Hero'})\n",
    "print(d1)\n",
    "\n",
    "print(\"\\n---------- update dictionary using unpacking ** ------------\\n\")\n",
    "\n",
    "d1 = {**d1,**{'Name':\"Rajat\",'Zip':110001}}\n",
    "print(d1)\n",
    "\n",
    "print(\"\\n---------- Delete dictionary elements  ------------\\n\")\n",
    "d1.pop('titles')\n",
    "print(d1)\n",
    "d1.popitem()\n",
    "print(d1)\n",
    "del d1['City']\n",
    "print(d1)\n",
    "d2 = d1\n",
    "print(d2)\n",
    "d2.clear()\n",
    "print(d2)\n",
    "print(d1)\n",
    "d1 = {'Name': 'Rajat', 'Age': 30, 'Salary': 90857.87, 'County': 'India', 'Phone code': 91}\n",
    "print(d1)\n",
    "print(\"Length of d1 : \", len(d1))"
   ]
  },
  {
   "cell_type": "markdown",
   "id": "ff3dd26b-65bc-44f7-9483-ce1fb8cc2f34",
   "metadata": {},
   "source": [
    "# SET in python"
   ]
  },
  {
   "cell_type": "code",
   "execution_count": 500,
   "id": "85262a1e-dadb-4a21-a267-19e802df10fd",
   "metadata": {},
   "outputs": [
    {
     "name": "stdout",
     "output_type": "stream",
     "text": [
      "<class 'set'>\n",
      "{None, False, 'Siya', 'Ram', (9-4j), 12, 13.72}\n",
      "{12.12, 13, 'Rahi'}\n",
      "{'b', 'a', 'n'}\n"
     ]
    }
   ],
   "source": [
    "# An unordered collection of unique elements (no duplicates allowed).\n",
    "# Defined using curly braces {} or the set() constructor.\n",
    "# Elements must be immutable (numbers, strings, tuples, etc.), but the set itself is mutable.\n",
    "\n",
    "s1 = {\"Ram\",12,None,'Siya',13.72,False,9-4j,12,\"Siya\"}\n",
    "print(type(s1))\n",
    "print(s1)\n",
    "\n",
    "s2 = set([13,'Rahi',12.12])\n",
    "print(s2)\n",
    "\n",
    "s3 = set(\"banana\")\n",
    "print(s3)\n"
   ]
  },
  {
   "cell_type": "code",
   "execution_count": 477,
   "id": "c2038e27-12a9-4349-85a8-85ad98e72e69",
   "metadata": {},
   "outputs": [
    {
     "name": "stdout",
     "output_type": "stream",
     "text": [
      "{13, 11, (3+5j), 'Rahi'}\n",
      "{13, 11, 12, (3+5j), 'Rahi'}\n",
      "{13, 11, (3+5j), 'Rahi'}\n",
      "{13, 11, (3+5j), 'Rahi'}\n",
      "{11, (3+5j), 'Rahi'}\n",
      "set()\n"
     ]
    }
   ],
   "source": [
    "# Add or remove\n",
    "\n",
    "s2.add(3+5j)\n",
    "print(s2)\n",
    "\n",
    "s2.update([11,12,13])\n",
    "print(s2)\n",
    "\n",
    "# delete element, if not found error occurs\n",
    "s2.remove(12)\n",
    "print(s2)\n",
    "\n",
    "# delete element, if not found yet also No error occurs\n",
    "s2.discard(12)\n",
    "print(s2)\n",
    "\n",
    "s2.pop()\n",
    "print(s2)\n",
    "\n",
    "s2.clear()\n",
    "print(s2)"
   ]
  },
  {
   "cell_type": "code",
   "execution_count": 494,
   "id": "50853fbe-f1c3-414e-ab11-340405551ebb",
   "metadata": {},
   "outputs": [
    {
     "name": "stdout",
     "output_type": "stream",
     "text": [
      "{1, 2, 3, 4, 5} {4, 5, 6, 7}\n",
      "\n",
      "-----------------------------------\n",
      "\n",
      "{1, 2, 3, 4, 5, 6, 7}\n",
      "{1, 2, 3, 4, 5, 6, 7}\n",
      "\n",
      "-----------------------------------\n",
      "\n",
      "{4, 5}\n",
      "{4, 5}\n",
      "\n",
      "-----------------------------------\n",
      "\n",
      "{1, 2, 3}\n",
      "{1, 2, 3}\n",
      "{6, 7}\n",
      "\n",
      "-----------------------------------\n",
      "\n",
      "{1, 2, 3, 6, 7}\n",
      "{1, 2, 3, 6, 7}\n",
      "{1, 2, 3, 6, 7}\n"
     ]
    }
   ],
   "source": [
    "# Mathematical operations\n",
    "\n",
    "s4 = set([1,2,3,4,5])\n",
    "s5 = set([4,5,6,7])\n",
    "\n",
    "print(s4,s5)\n",
    "\n",
    "print(\"\\n-----------------------------------\\n\")\n",
    "\n",
    "# union operation\n",
    "print(s4.union(s5))\n",
    "print(s4 | s5)\n",
    "\n",
    "print(\"\\n-----------------------------------\\n\")\n",
    "\n",
    "# intersection operation\n",
    "\n",
    "print(s4.intersection(s5))\n",
    "print(s4 & s5)\n",
    "\n",
    "print(\"\\n-----------------------------------\\n\")\n",
    "\n",
    "# difference operation\n",
    "\n",
    "print(s4.difference(s5))\n",
    "print(s4 - s5)\n",
    "print(s5 - s4)\n",
    "\n",
    "print(\"\\n-----------------------------------\\n\")\n",
    "\n",
    "# asymmetric difference operation\n",
    "\n",
    "print(s4.symmetric_difference(s5))\n",
    "print(s4 ^ s5)\n",
    "print(s5 ^ s4)"
   ]
  },
  {
   "cell_type": "code",
   "execution_count": 514,
   "id": "60aaa73a-5585-417d-bc89-58be0f6e6b01",
   "metadata": {},
   "outputs": [
    {
     "name": "stdout",
     "output_type": "stream",
     "text": [
      "{3, 4, 5}\n",
      "{3, 4, 5, 6, 7}\n",
      "True\n",
      "False\n",
      "\n",
      "-----------------------------------\n",
      "\n",
      "False\n",
      "True\n",
      "\n",
      "-----------------------------------\n",
      "\n",
      "True\n",
      "False\n"
     ]
    }
   ],
   "source": [
    "# Subset, superSet and Disjoint operation\n",
    "\n",
    "s4 = set([3,4,5])\n",
    "s5 = set([7,4,6,3,5])\n",
    "\n",
    "print(s4)\n",
    "print(s5)\n",
    "\n",
    "print(s4.issubset(s5))\n",
    "print(s5.issubset(s4))\n",
    "print(\"\\n-----------------------------------\\n\")\n",
    "print(s4.issuperset(s5))\n",
    "print(s5.issuperset(s4))\n",
    "print(\"\\n-----------------------------------\\n\")\n",
    "print(s4.isdisjoint({1,2}))\n",
    "print(s5.isdisjoint({4,5}))"
   ]
  },
  {
   "cell_type": "code",
   "execution_count": 516,
   "id": "1cf6117c-6fc6-419f-8518-2d4d0f019079",
   "metadata": {},
   "outputs": [
    {
     "name": "stdout",
     "output_type": "stream",
     "text": [
      "{3, 4, 5} {3, 4, 5, 6, 7}\n",
      "Sum total of S5 =  12  Sum total of S5 =  25\n",
      "Max number in s4 is  :  5  Max number in s5 is  :  7\n",
      "Min number in s4 is  :  3  Min number in s5 is  :  3\n",
      "Length of s4 is  :  3  Length of s5 is  :  5\n",
      "[3, 4, 5, 6, 7]\n"
     ]
    }
   ],
   "source": [
    "# math operatons\n",
    "\n",
    "print(s4,s5)\n",
    "print(\"Sum total of S5 = \",sum(s4),\" Sum total of S5 = \",sum(s5))\n",
    "print(\"Max number in s4 is  : \",max(s4),\" Max number in s5 is  : \",max(s5))\n",
    "print(\"Min number in s4 is  : \",min(s4),\" Min number in s5 is  : \",min(s5))\n",
    "print(\"Length of s4 is  : \",len(s4),\" Length of s5 is  : \",len(s5))\n",
    "print(sorted(s5))"
   ]
  },
  {
   "cell_type": "code",
   "execution_count": 518,
   "id": "88d33c3c-79e5-419a-81b6-25a18bcffab0",
   "metadata": {},
   "outputs": [
    {
     "name": "stdout",
     "output_type": "stream",
     "text": [
      "<class 'frozenset'>\n",
      "frozenset({34, 23, 56, 12, 45})\n"
     ]
    }
   ],
   "source": [
    "# frozenset : the elements of this kkind of set are immutable\n",
    "\n",
    "fs = frozenset({12,23,34,45,56})\n",
    "print(type(fs))\n",
    "print(fs)"
   ]
  },
  {
   "cell_type": "code",
   "execution_count": 519,
   "id": "fa7fc8ba-ab2f-4384-8893-259ad959d628",
   "metadata": {},
   "outputs": [
    {
     "ename": "AttributeError",
     "evalue": "'frozenset' object has no attribute 'add'",
     "output_type": "error",
     "traceback": [
      "\u001b[31m---------------------------------------------------------------------------\u001b[39m",
      "\u001b[31mAttributeError\u001b[39m                            Traceback (most recent call last)",
      "\u001b[36mCell\u001b[39m\u001b[36m \u001b[39m\u001b[32mIn[519]\u001b[39m\u001b[32m, line 1\u001b[39m\n\u001b[32m----> \u001b[39m\u001b[32m1\u001b[39m fs.add(\u001b[32m22\u001b[39m)\n",
      "\u001b[31mAttributeError\u001b[39m: 'frozenset' object has no attribute 'add'"
     ]
    }
   ],
   "source": [
    "fs.add(22)"
   ]
  },
  {
   "cell_type": "code",
   "execution_count": null,
   "id": "5d325a67-a434-4ec8-823d-47fad0175d96",
   "metadata": {},
   "outputs": [],
   "source": []
  }
 ],
 "metadata": {
  "kernelspec": {
   "display_name": "pythonStudies",
   "language": "python",
   "name": "pythonstudies"
  },
  "language_info": {
   "codemirror_mode": {
    "name": "ipython",
    "version": 3
   },
   "file_extension": ".py",
   "mimetype": "text/x-python",
   "name": "python",
   "nbconvert_exporter": "python",
   "pygments_lexer": "ipython3",
   "version": "3.13.5"
  }
 },
 "nbformat": 4,
 "nbformat_minor": 5
}
